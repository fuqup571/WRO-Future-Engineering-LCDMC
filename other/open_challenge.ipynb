{
 "cells": [
  {
   "cell_type": "markdown",
   "id": "d437bc2c-41f4-4807-9117-2f554e2c3b6c",
   "metadata": {},
   "source": [
    "### Create camera"
   ]
  },
  {
   "cell_type": "code",
   "execution_count": 1,
   "id": "f0b15a12-7664-49ab-885b-058bd65637bc",
   "metadata": {},
   "outputs": [
    {
     "name": "stdout",
     "output_type": "stream",
     "text": [
      "[sudo] password for jetson: \n",
      "GST_ARGUS: Creating output stream\n",
      "CONSUMER: Waiting until producer is connected...\n",
      "GST_ARGUS: Available Sensor modes :\n",
      "GST_ARGUS: 3280 x 2464 FR = 21.000000 fps Duration = 47619048 ; Analog Gain range min 1.000000, max 10.625000; Exposure Range min 13000, max 683709000;\n",
      "\n",
      "GST_ARGUS: 3280 x 1848 FR = 28.000001 fps Duration = 35714284 ; Analog Gain range min 1.000000, max 10.625000; Exposure Range min 13000, max 683709000;\n",
      "\n",
      "GST_ARGUS: 1920 x 1080 FR = 29.999999 fps Duration = 33333334 ; Analog Gain range min 1.000000, max 10.625000; Exposure Range min 13000, max 683709000;\n",
      "\n",
      "GST_ARGUS: 1640 x 1232 FR = 29.999999 fps Duration = 33333334 ; Analog Gain range min 1.000000, max 10.625000; Exposure Range min 13000, max 683709000;\n",
      "\n",
      "GST_ARGUS: 1280 x 720 FR = 59.999999 fps Duration = 16666667 ; Analog Gain range min 1.000000, max 10.625000; Exposure Range min 13000, max 683709000;\n",
      "\n",
      "GST_ARGUS: Running with following settings:\n",
      "   Camera index = 0 \n",
      "   Camera mode  = 4 \n",
      "   Output Stream W = 1280 H = 720 \n",
      "   seconds to Run    = 0 \n",
      "   Frame Rate = 59.999999 \n",
      "GST_ARGUS: Setup Complete, Starting captures for 0 seconds\n",
      "GST_ARGUS: Starting repeat capture requests.\n",
      "CONSUMER: Producer has connected; continuing.\n"
     ]
    },
    {
     "name": "stderr",
     "output_type": "stream",
     "text": [
      "[ WARN:0@0.637] global cap_gstreamer.cpp:1728 open OpenCV | GStreamer warning: Cannot query video position: status=0, value=-1, duration=-1\n"
     ]
    }
   ],
   "source": [
    "# Full reset of the camera\n",
    "!echo 'jetson' | sudo -S systemctl restart nvargus-daemon && printf '\\n'\n",
    "\n",
    "from jetcam.csi_camera import CSICamera\n",
    "\n",
    "camera = CSICamera(width=640, height=480, capthur_fps=30)\n",
    "\n",
    "camera.running = False"
   ]
  },
  {
   "cell_type": "markdown",
   "id": "dd46c2a0-441d-4e71-a57b-9ba5eb789e7b",
   "metadata": {},
   "source": [
    "### Import libraries"
   ]
  },
  {
   "cell_type": "code",
   "execution_count": 2,
   "id": "10fcf945-2ae4-47cc-9214-db6ea0a6d760",
   "metadata": {},
   "outputs": [],
   "source": [
    "import cv2\n",
    "import ipywidgets\n",
    "import traitlets\n",
    "from IPython.display import display\n",
    "from jetcam.utils import bgr8_to_jpeg\n",
    "from jupyter_clickable_image_widget import ClickableImageWidget\n",
    "from robot.jetracer import JetRacer\n",
    "import numpy as np\n",
    "import time"
   ]
  },
  {
   "cell_type": "markdown",
   "id": "e28ffde4-04a1-4382-b721-261fb6267e0e",
   "metadata": {},
   "source": [
    "### Create camera preview"
   ]
  },
  {
   "cell_type": "code",
   "execution_count": 3,
   "id": "75fcd09f-db0b-4d80-84c4-5b575353dfb1",
   "metadata": {},
   "outputs": [
    {
     "data": {
      "application/vnd.jupyter.widget-view+json": {
       "model_id": "0627a80b150a4fdf8bcfa8d73a8c2c0b",
       "version_major": 2,
       "version_minor": 0
      },
      "text/plain": [
       "Image(value=b'', height='480', width='640')"
      ]
     },
     "metadata": {},
     "output_type": "display_data"
    }
   ],
   "source": [
    "camera_widget = ipywidgets.Image(width=camera.width, height=camera.height)\n",
    "\n",
    "display(camera_widget)"
   ]
  },
  {
   "cell_type": "markdown",
   "id": "023d4024-73f0-46cd-a6d6-1f156492c9bf",
   "metadata": {},
   "source": [
    "### Create robot control"
   ]
  },
  {
   "cell_type": "code",
   "execution_count": 4,
   "id": "6aeb6b1a-4a1d-458e-ab31-0b1f3901b9bb",
   "metadata": {},
   "outputs": [],
   "source": [
    "car = JetRacer(bus=7, signal_freq=50, servo_channel=0, motor_channel=1)"
   ]
  },
  {
   "cell_type": "code",
   "execution_count": 5,
   "id": "35883f4f-5bde-4f3e-b283-814718e938d9",
   "metadata": {},
   "outputs": [],
   "source": [
    "car.steering = 0.0\n",
    "car.throttle = 0"
   ]
  },
  {
   "cell_type": "code",
   "execution_count": null,
   "id": "0fbcf3f3-fc30-4dbb-9b24-2a8d2c6e7952",
   "metadata": {},
   "outputs": [],
   "source": [
    "car.throttle = -0.18\n",
    "\n",
    "display_cnt = 0\n",
    "throttle_cnt = 0\n",
    "\n",
    "blue_line_passed = 0\n",
    "last_passed_blue_line_time = 0\n",
    "\n",
    "while True:\n",
    "    image = camera.read()\n",
    "    edges = cv2.Canny(image,100,200)\n",
    "\n",
    "    left_edge_y_pos = -1\n",
    "    right_edge_y_pos = -1\n",
    "    canny_left_edge_pos = -1\n",
    "    canny_right_edge_pos = -1\n",
    "    for y in range(460):\n",
    "        y = 479-y\n",
    "        left_color = np.sum(image[y-5:y, 5:10])\n",
    "        right_color = np.sum(image[y-5:y, 630:635])\n",
    "        if left_edge_y_pos == -1 and left_color < 4000:\n",
    "            left_edge_y_pos = y\n",
    "            image[y-5:y, 5:10] = 255\n",
    "        if right_edge_y_pos == -1 and right_color < 4000:\n",
    "            right_edge_y_pos = y\n",
    "            image[y-5:y, 630:635] = 255\n",
    "        if y > 290 and canny_left_edge_pos == -1 and edges[y,5] == 255:\n",
    "            canny_left_edge_pos = y\n",
    "            image[y-5:y, 0:640, 1] = 255\n",
    "        if y > 290 and canny_right_edge_pos == -1 and edges[y,635] == 255:\n",
    "            canny_rightt_edge_pos = y\n",
    "            image[y-5:y, 0:640, 0] = 255\n",
    "        if y > 120 and left_edge_y_pos != -1 and right_edge_y_pos != -1:\n",
    "            break\n",
    "    if canny_left_edge_pos > left_edge_y_pos or canny_right_edge_pos > right_edge_y_pos:\n",
    "        if time.time()-last_passed_blue_line_time > 2:\n",
    "            last_passed_blue_line_time = time.time()\n",
    "            blue_line_passed += 1\n",
    "            print(blue_line_passed)\n",
    "    \n",
    "    car.steering = -(left_edge_y_pos - right_edge_y_pos) / 420\n",
    "\n",
    "    if blue_line_passed < 12 and throttle_cnt % 1 == 0:\n",
    "        car.throttle = -0.18\n",
    "    else:\n",
    "        car.throttle = 0\n",
    "        car.throttle = 0\n",
    "    throttle_cnt += 1\n",
    "    # if display_cnt % 10 == 0:\n",
    "    #     camera_widget.value = bgr8_to_jpeg(image)\n",
    "    # display_cnt += 1\n",
    "    camera_widget.value = bgr8_to_jpeg(edges)"
   ]
  },
  {
   "cell_type": "code",
   "execution_count": null,
   "id": "102cd427-3367-4d84-83ad-f59b929f7b67",
   "metadata": {},
   "outputs": [],
   "source": []
  },
  {
   "cell_type": "code",
   "execution_count": null,
   "id": "1af62dc4-d6b5-4663-b4a4-604396179381",
   "metadata": {},
   "outputs": [],
   "source": []
  }
 ],
 "metadata": {
  "kernelspec": {
   "display_name": "Python 3 (ipykernel)",
   "language": "python",
   "name": "python3"
  },
  "language_info": {
   "codemirror_mode": {
    "name": "ipython",
    "version": 3
   },
   "file_extension": ".py",
   "mimetype": "text/x-python",
   "name": "python",
   "nbconvert_exporter": "python",
   "pygments_lexer": "ipython3",
   "version": "3.10.12"
  }
 },
 "nbformat": 4,
 "nbformat_minor": 5
}

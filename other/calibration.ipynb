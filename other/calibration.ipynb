{
 "cells": [
  {
   "cell_type": "markdown",
   "id": "ec80d68e",
   "metadata": {},
   "source": [
    "## JetRacer Calibration\n",
    "\n",
    "Due to the different architecture, your JetRacer may have a reverse steering and/or throttle.\n",
    "\n",
    "Here you can use this notebook to calibrate your JetRacer."
   ]
  },
  {
   "cell_type": "code",
   "execution_count": 1,
   "id": "17fb55c6",
   "metadata": {},
   "outputs": [],
   "source": [
    "import ipywidgets\n",
    "import threading\n",
    "import time\n",
    "import traitlets\n",
    "import sys\n",
    "sys.path.append('../')\n",
    "from robot.jetracer import JetRacer\n",
    "\n",
    "robot = JetRacer(bus=7, signal_freq=50, servo_channel=0, motor_channel=1)"
   ]
  },
  {
   "cell_type": "code",
   "execution_count": 2,
   "id": "88963e94-fef8-444e-81d6-f93f753feea7",
   "metadata": {},
   "outputs": [],
   "source": [
    "robot.steering = 0.0"
   ]
  },
  {
   "cell_type": "markdown",
   "id": "c73b9473",
   "metadata": {},
   "source": [
    "Now we will command the JetRacer to do some basic movement, make sure your JetRacer is not touching any surface and switch the control to PC mode when you ready"
   ]
  },
  {
   "cell_type": "code",
   "execution_count": 3,
   "id": "6be00247",
   "metadata": {},
   "outputs": [],
   "source": [
    "jetracer_running = True\n",
    "\n",
    "def jetracer_test0():\n",
    "    count = 0.0\n",
    "    delta = 0.01\n",
    "    while jetracer_running:\n",
    "        if count > 1.0 or count < -1.0:\n",
    "            delta = -delta\n",
    "        count += delta\n",
    "        robot.steering = count\n",
    "        robot.throttle = count / 2\n",
    "        time.sleep(0.1)\n",
    "        \n",
    "jetracer_test0_thread = threading.Thread(target=jetracer_test0)\n",
    "jetracer_test0_thread.start()"
   ]
  },
  {
   "cell_type": "markdown",
   "id": "3de93d70",
   "metadata": {},
   "source": [
    "If your JetRacer is not swinging its front steering and having a changing throttle, make sure your motor power is turned on and the PC mode LED is on."
   ]
  },
  {
   "cell_type": "markdown",
   "id": "5640ca2e",
   "metadata": {},
   "source": [
    "After checking all the hardware is working fine, we can command the robot to stop"
   ]
  },
  {
   "cell_type": "code",
   "execution_count": 4,
   "id": "8113dde0",
   "metadata": {},
   "outputs": [],
   "source": [
    "jetracer_running = False\n",
    "jetracer_test0_thread.join()\n",
    "robot.stop()"
   ]
  },
  {
   "cell_type": "markdown",
   "id": "ecc51b4c",
   "metadata": {},
   "source": [
    "Here we will calibrate the front steering of our JetRacer.\n",
    "\n",
    "We want to make sure that we utilize the full potential of our JetRacer's servo and it's moving straight when we set `robot.steering = 0`.\n",
    "\n",
    "Drag the pulse width slider to find the minimum and maximum pulse width, click the button \"Minimum\", \"Center\", \"Maximum\" when the servo reaches its corresponding position.\n",
    "\n",
    "The unit of the pulse width slider is in microsecond."
   ]
  },
  {
   "cell_type": "code",
   "execution_count": 5,
   "id": "059d6cd8",
   "metadata": {},
   "outputs": [
    {
     "data": {
      "application/vnd.jupyter.widget-view+json": {
       "model_id": "7aa45a78f0284dcfa6146f5da6bf50ae",
       "version_major": 2,
       "version_minor": 0
      },
      "text/plain": [
       "VBox(children=(IntSlider(value=1500, description='Pulse Width', max=2500, min=500), HBox(children=(Button(desc…"
      ]
     },
     "metadata": {},
     "output_type": "display_data"
    }
   ],
   "source": [
    "min_pulse_width = 1000\n",
    "center_pulse_width = 1500\n",
    "max_pulse_width = 2000\n",
    "\n",
    "pulse_width_slider = ipywidgets.IntSlider(min=500, max=2500, step=1, value=1500, description='Pulse Width')\n",
    "min_button = ipywidgets.Button(description=\"Minimum\")\n",
    "center_button = ipywidgets.Button(description=\"Center\")\n",
    "max_button = ipywidgets.Button(description=\"Maximum\")\n",
    "buttons_hbox = ipywidgets.HBox([min_button, center_button, max_button])\n",
    "\n",
    "def on_pulse_width_change(change):\n",
    "    period = 1000000 / robot.pca.frequency\n",
    "    robot.pca[robot.servo.channel] = change['new'] / period\n",
    "\n",
    "def on_min_clicked(b):\n",
    "    min_pulse_width = pulse_width_slider.value\n",
    "    robot.servo._cal_alpha_beta(robot.pca.frequency, min_pulse_width, center_pulse_width, max_pulse_width)\n",
    "    print(f\"Minimum pulse width set to {min_pulse_width} us\")\n",
    "    \n",
    "def on_center_clicked(b):\n",
    "    center_pluse_width = pulse_width_slider.value\n",
    "    robot.servo._cal_alpha_beta(robot.pca.frequency, min_pulse_width, center_pulse_width, max_pulse_width)\n",
    "    print(f\"Center pulse width set to {center_pulse_width} us\")\n",
    "    \n",
    "def on_max_clicked(b):\n",
    "    max_pulse_width = pulse_width_slider.value\n",
    "    robot.servo._cal_alpha_beta(robot.pca.frequency, min_pulse_width, center_pulse_width, max_pulse_width)\n",
    "    print(f\"Maximum pulse width set to {max_pulse_width} us\")\n",
    "\n",
    "pulse_width_slider.observe(on_pulse_width_change, names='value')\n",
    "min_button.on_click(on_min_clicked)\n",
    "center_button.on_click(on_center_clicked)\n",
    "max_button.on_click(on_max_clicked)        \n",
    "\n",
    "display(ipywidgets.VBox([pulse_width_slider, buttons_hbox]))"
   ]
  },
  {
   "cell_type": "markdown",
   "id": "aff5e5c6",
   "metadata": {},
   "source": [
    "And we still need to make sure the front steering is at the leftmost when `robot.steering = -1.0`, rightmost when `robot.steering = 1.0`.\n",
    "\n",
    "Click the button reverse when you see the direction of the front steering is reversed."
   ]
  },
  {
   "cell_type": "code",
   "execution_count": null,
   "id": "c092a0e7",
   "metadata": {},
   "outputs": [],
   "source": []
  }
 ],
 "metadata": {
  "kernelspec": {
   "display_name": "Python 3 (ipykernel)",
   "language": "python",
   "name": "python3"
  },
  "language_info": {
   "codemirror_mode": {
    "name": "ipython",
    "version": 3
   },
   "file_extension": ".py",
   "mimetype": "text/x-python",
   "name": "python",
   "nbconvert_exporter": "python",
   "pygments_lexer": "ipython3",
   "version": "3.10.12"
  }
 },
 "nbformat": 4,
 "nbformat_minor": 5
}
